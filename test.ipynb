{
 "metadata": {
  "language_info": {
   "codemirror_mode": {
    "name": "ipython",
    "version": 3
   },
   "file_extension": ".py",
   "mimetype": "text/x-python",
   "name": "python",
   "nbconvert_exporter": "python",
   "pygments_lexer": "ipython3",
   "version": "3.8.5-final"
  },
  "orig_nbformat": 2,
  "kernelspec": {
   "name": "python_defaultSpec_1599237227622",
   "display_name": "Python 3.8.5 64-bit ('scraper': conda)"
  }
 },
 "nbformat": 4,
 "nbformat_minor": 2,
 "cells": [
  {
   "cell_type": "code",
   "execution_count": 1,
   "metadata": {
    "tags": []
   },
   "outputs": [],
   "source": [
    "%load_ext autoreload\n",
    "%autoreload 2"
   ]
  },
  {
   "cell_type": "code",
   "execution_count": 2,
   "metadata": {
    "tags": []
   },
   "outputs": [],
   "source": [
    "from scrape import scrape_hepsi, scrape_trendyol, scrape_amazon, scrape_vatan, scrape_teknosa, scrape_incehesap, scrape_itopya"
   ]
  },
  {
   "cell_type": "code",
   "execution_count": 61,
   "metadata": {
    "tags": []
   },
   "outputs": [
    {
     "output_type": "stream",
     "name": "stdout",
     "text": "3306\n"
    }
   ],
   "source": [
    "url = \"https://www.hepsiburada.com/xiaomi-mi-robot-vacuum-mop-pro-siyah-akilli-robot-supurge-p-hbv00000sdb4d\"\n",
    "\n",
    "print(scrape_hepsi(url))"
   ]
  },
  {
   "cell_type": "code",
   "execution_count": 9,
   "metadata": {
    "tags": []
   },
   "outputs": [
    {
     "output_type": "stream",
     "name": "stdout",
     "text": "76\n"
    }
   ],
   "source": [
    "url = \"https://www.trendyol.com/u-s-polo-assn/kadin-gomlek-g082gl004-000-1177173-p-42639036?boutiqueId=527231&merchantId=163\"\n",
    "\n",
    "print(scrape_trendyol(url))"
   ]
  },
  {
   "cell_type": "code",
   "execution_count": 44,
   "metadata": {
    "tags": []
   },
   "outputs": [
    {
     "output_type": "execute_result",
     "data": {
      "text/plain": "1199"
     },
     "metadata": {},
     "execution_count": 44
    }
   ],
   "source": [
    "url_with_discount = \"https://www.amazon.com.tr/dp/B07YPVMGL4?smid=A1UNQM1SR2CHM&pf_rd_r=S38KWWAN0WRDMHNCQFWF&pf_rd_p=33689740-40ee-4a22-94e7-3d67673fe693\"\n",
    "\n",
    "scrape_amazon(url_with_discount)"
   ]
  },
  {
   "cell_type": "code",
   "execution_count": 4,
   "metadata": {
    "tags": []
   },
   "outputs": [
    {
     "output_type": "error",
     "ename": "IndexError",
     "evalue": "list index out of range",
     "traceback": [
      "\u001b[1;31m---------------------------------------------------------------------------\u001b[0m",
      "\u001b[1;31mIndexError\u001b[0m                                Traceback (most recent call last)",
      "\u001b[1;32m<ipython-input-4-a5ecc68ffadd>\u001b[0m in \u001b[0;36m<module>\u001b[1;34m\u001b[0m\n\u001b[0;32m      1\u001b[0m \u001b[0murl\u001b[0m \u001b[1;33m=\u001b[0m \u001b[1;34m\"https://www.vatanbilgisayar.com/asus-geforce-rog-strix-rtx2080-a8g-gaming-8gb-ddr6-256-bit-dx12-ekran-karti.html\"\u001b[0m\u001b[1;33m\u001b[0m\u001b[1;33m\u001b[0m\u001b[0m\n\u001b[1;32m----> 2\u001b[1;33m \u001b[0mscrape_vatan\u001b[0m\u001b[1;33m(\u001b[0m\u001b[0murl\u001b[0m\u001b[1;33m)\u001b[0m\u001b[1;33m\u001b[0m\u001b[1;33m\u001b[0m\u001b[0m\n\u001b[0m",
      "\u001b[1;32mc:\\Users\\Furkan\\Desktop\\Projects\\price_scraping\\price_scraping\\scrape.py\u001b[0m in \u001b[0;36mscrape_vatan\u001b[1;34m(url, timeout)\u001b[0m\n\u001b[0;32m    124\u001b[0m     \u001b[0msoup\u001b[0m \u001b[1;33m=\u001b[0m \u001b[0mget_request\u001b[0m\u001b[1;33m(\u001b[0m\u001b[0murl\u001b[0m\u001b[1;33m,\u001b[0m \u001b[0mtimeout\u001b[0m\u001b[1;33m)\u001b[0m\u001b[1;33m\u001b[0m\u001b[1;33m\u001b[0m\u001b[0m\n\u001b[0;32m    125\u001b[0m \u001b[1;33m\u001b[0m\u001b[0m\n\u001b[1;32m--> 126\u001b[1;33m     content = soup.find_all(\n\u001b[0m\u001b[0;32m    127\u001b[0m                    \u001b[1;34m\"div\"\u001b[0m\u001b[1;33m,\u001b[0m \u001b[0mattrs\u001b[0m\u001b[1;33m=\u001b[0m \u001b[1;33m{\u001b[0m\u001b[1;34m\"class\"\u001b[0m\u001b[1;33m:\u001b[0m \u001b[1;34m\"product-list__content\"\u001b[0m\u001b[1;33m}\u001b[0m\u001b[1;33m)\u001b[0m\u001b[1;33m[\u001b[0m\u001b[1;36m0\u001b[0m\u001b[1;33m]\u001b[0m\u001b[1;33m.\u001b[0m\u001b[0mfind_all\u001b[0m\u001b[1;33m(\u001b[0m\u001b[1;33m\u001b[0m\u001b[1;33m\u001b[0m\u001b[0m\n\u001b[0;32m    128\u001b[0m                    \"span\", attrs={\"class\": \"product-list__price\"})\n",
      "\u001b[1;31mIndexError\u001b[0m: list index out of range"
     ]
    }
   ],
   "source": [
    "url = \"https://www.vatanbilgisayar.com/asus-geforce-rog-strix-rtx2080-a8g-gaming-8gb-ddr6-256-bit-dx12-ekran-karti.html\"\n",
    "scrape_vatan(url)"
   ]
  },
  {
   "cell_type": "code",
   "execution_count": 46,
   "metadata": {},
   "outputs": [
    {
     "output_type": "execute_result",
     "data": {
      "text/plain": "7099"
     },
     "metadata": {},
     "execution_count": 46
    }
   ],
   "source": [
    "url = \"https://www.teknosa.com/monster-abra-a7-v1217-intel-core-i5-10300h-8-gb-ddr4-ram-250gb-ssd-4gb-gddr6-nvidia-gtx1650-17-siyah-notebook-p-125035333?_sgm_campaign=scn_4e876eb8aed82000&_sgm_source=125035333&_sgm_action=click\"\n",
    "scrape_teknosa(url)"
   ]
  },
  {
   "cell_type": "code",
   "execution_count": 47,
   "metadata": {},
   "outputs": [
    {
     "output_type": "execute_result",
     "data": {
      "text/plain": "4152"
     },
     "metadata": {},
     "execution_count": 47
    }
   ],
   "source": [
    "url = \"https://www.incehesap.com/asus-vivobook-15-x512da-ej957-notebook-fiyati-44688/\"\n",
    "scrape_incehesap(url)"
   ]
  },
  {
   "cell_type": "code",
   "execution_count": 57,
   "metadata": {
    "tags": []
   },
   "outputs": [
    {
     "output_type": "stream",
     "name": "stdout",
     "text": "1456\n399\n2199\n279\n1799\n239\n456\n"
    }
   ],
   "source": [
    "url_list = [\"https://www.itopya.com/epson-lx-350-80-kolon-416-cps-nokta-vuruslu-yazici/\",\n",
    "            \"https://www.itopya.com/stratus-xl-windows-ve-android-gamepad/\",\n",
    "            \"https://www.itopya.com/aoc-315-c32g1-2xhdmi-dp-vga-144hz-1ms-freesync-full-hd-curved-gaming-monitor/\",\n",
    "            \"https://www.itopya.com/gskill-8gb-ripjaws-v-siyah-ddr4-3200mhz-cl16-single-kit-ram/\",\n",
    "            \"https://www.itopya.com/aoc-24-c24g1-2xhdmi-dp-vga-144hz-1ms-freesync-full-hd-curved-gaming-monitor-/\",\n",
    "            \"https://www.itopya.com/kioxia-exceria-240gb-sata-30-25-ssd-555mb-okuma-540mb-yazma/\",\n",
    "            \"https://www.itopya.com/asus-dsl-ac51-ac750-adsl-vdsl-fiber-modem/\"]\n",
    "\n",
    "for url in url_list:\n",
    "    print(scrape_itopya(url))"
   ]
  },
  {
   "cell_type": "code",
   "execution_count": 46,
   "metadata": {},
   "outputs": [
    {
     "output_type": "execute_result",
     "data": {
      "text/plain": "'2.199.00  KDV Dahil'"
     },
     "metadata": {},
     "execution_count": 46
    }
   ],
   "source": [
    "soup.find_all(\"div\", attrs= {\"class\": \"product-info\"})[0].select('div[class=\"new text-right\"]')[0].get_text()"
   ]
  },
  {
   "cell_type": "code",
   "execution_count": 99,
   "metadata": {
    "tags": []
   },
   "outputs": [],
   "source": [
    "from scrape import extract_product_links\n",
    "from products import "
   ]
  },
  {
   "cell_type": "code",
   "execution_count": 2,
   "metadata": {
    "tags": []
   },
   "outputs": [
    {
     "output_type": "stream",
     "name": "stdout",
     "text": "5\n"
    }
   ],
   "source": [
    "deneme().tell_x()"
   ]
  },
  {
   "cell_type": "code",
   "execution_count": 42,
   "metadata": {},
   "outputs": [],
   "source": [
    "import os\n",
    "import smtplib\n",
    "from email.message import EmailMessage\n",
    "from email.mime.text import MIMEText\n",
    "from email.mime.multipart import MIMEMultipart\n",
    "\n",
    "EMAIL_ADDRESS = os.environ.get('EMAIL_USER')\n",
    "EMAIL_PASSWORD = os.environ.get('EMAIL_PASS')\n",
    "RECEIVER_ADDRESS = 'furkan.cetin1@yandex.com'\n",
    "\n",
    "def send_mail(message):\n",
    "    \"\"\"\n",
    "    This function takes string and sends mail to the receiver_address\n",
    "    \"\"\"\n",
    "\n",
    "    #if you want to add attachment(image, pdf) youtube video explains it\n",
    "    #excel attachment example https://stackoverflow.com/a/60972152\n",
    "    #How to send e-mail https://www.youtube.com/watch?v=JRCJ6RtE3xU\n",
    "    msg = MIMEMultipart()\n",
    "    msg['Subject'] = 'About your product list'\n",
    "    msg['From'] = EMAIL_ADDRESS\n",
    "    msg['To'] = RECEIVER_ADDRESS    #if you want to send multiple address make a list of mails \n",
    "    #msg.set_content(message) \n",
    "\n",
    "    msg.attach(MIMEText(message, \"html\"))\n",
    "\n",
    "    with smtplib.SMTP_SSL('smtp.gmail.com', 465) as smtp:\n",
    "        smtp.login(EMAIL_ADDRESS, EMAIL_PASSWORD)\n",
    "\n",
    "        smtp.send_message(msg)\n",
    "\n",
    "def create_mail_body(product_name, discount_link, product_links):\n",
    "    \"\"\"\n",
    "    This function creates body of the mail\n",
    "    \"\"\"\n",
    "    \n",
    "    msg = f\"\"\"Hey Furkan,\n",
    "    \n",
    "There could be a discount opportunity for the product you follow: {product_name}\n",
    "Please check out the Link: {discount_link}\n",
    "\n",
    "You can check prices from other sites:\n",
    "{product_links}\n",
    "\n",
    "Good Luck\n",
    "           \"\"\"\n",
    "\n",
    "    return msg"
   ]
  },
  {
   "cell_type": "code",
   "execution_count": 67,
   "metadata": {
    "tags": []
   },
   "outputs": [],
   "source": [
    "product_name = 'RTX 2080 Super'\n",
    "discount_link = 'https://www.incehesap.com/asus-rog-strix-rtx2080s-a8g-gaming-ekran-karti-fiyati-43239/'\n",
    "\n",
    "html = f\"\"\"\\\n",
    "<html>\n",
    "  <body>\n",
    "    <p>Hi Furkan,<br>\n",
    "    <br> There could be a discount opportunity for the product you follow: <a href=\"{discount_link}\">{product_name}</a> <br>\n",
    "    <br> You can check prices from other sites:<br>\n",
    "    {create_seller_tags()}\n",
    "    <br>Good Luck !<br>\n",
    "    </p>\n",
    "  </body>\n",
    "</html>\n",
    "\"\"\"\n",
    "\n",
    "send_mail(html)\n"
   ]
  },
  {
   "cell_type": "code",
   "execution_count": 38,
   "metadata": {},
   "outputs": [],
   "source": []
  },
  {
   "cell_type": "code",
   "execution_count": 49,
   "metadata": {},
   "outputs": [],
   "source": []
  },
  {
   "cell_type": "code",
   "execution_count": 65,
   "metadata": {
    "tags": []
   },
   "outputs": [],
   "source": [
    "def create_seller_tags():\n",
    "    links_html = ''\n",
    "\n",
    "    for seller in links:\n",
    "        links_html += f'<br><a href=\"{links[seller]}\">{seller}:</a><br>'\n",
    "    \n",
    "    return links_html"
   ]
  },
  {
   "cell_type": "code",
   "execution_count": 66,
   "metadata": {},
   "outputs": [
    {
     "output_type": "execute_result",
     "data": {
      "text/plain": "'<br><a href=\"https://www.incehesap.com/asus-rog-strix-rtx2080s-a8g-gaming-ekran-karti-fiyati-43239/\">Hepsiburada:</a><br><br><a href=\"https://www.incehesap.com/asus-rog-strix-rtx2080s-a8g-gaming-ekran-karti-fiyati-43239/\">Trendyol:</a><br><br><a href=\"https://www.incehesap.com/asus-rog-strix-rtx2080s-a8g-gaming-ekran-karti-fiyati-43239/\">Amazon:</a><br>'"
     },
     "metadata": {},
     "execution_count": 66
    }
   ],
   "source": [
    "create_seller_tags()"
   ]
  },
  {
   "cell_type": "code",
   "execution_count": null,
   "metadata": {},
   "outputs": [],
   "source": []
  }
 ]
}