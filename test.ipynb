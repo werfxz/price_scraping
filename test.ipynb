{
 "metadata": {
  "language_info": {
   "codemirror_mode": {
    "name": "ipython",
    "version": 3
   },
   "file_extension": ".py",
   "mimetype": "text/x-python",
   "name": "python",
   "nbconvert_exporter": "python",
   "pygments_lexer": "ipython3",
   "version": "3.8.5-final"
  },
  "orig_nbformat": 2,
  "kernelspec": {
   "name": "python_defaultSpec_1598194039120",
   "display_name": "Python 3.8.5 64-bit ('scraper': conda)"
  }
 },
 "nbformat": 4,
 "nbformat_minor": 2,
 "cells": [
  {
   "cell_type": "code",
   "execution_count": 59,
   "metadata": {
    "tags": []
   },
   "outputs": [
    {
     "output_type": "stream",
     "name": "stdout",
     "text": "The autoreload extension is already loaded. To reload it, use:\n  %reload_ext autoreload\n"
    }
   ],
   "source": [
    "%load_ext autoreload\n",
    "%autoreload 2"
   ]
  },
  {
   "cell_type": "code",
   "execution_count": 60,
   "metadata": {
    "tags": []
   },
   "outputs": [],
   "source": [
    "from scrape import scrape_hepsi, scrape_trendyol, scrape_amazon, scrape_vatan, scrape_teknosa, scrape_incehesap, scrape_itopya"
   ]
  },
  {
   "cell_type": "code",
   "execution_count": 61,
   "metadata": {
    "tags": []
   },
   "outputs": [
    {
     "output_type": "stream",
     "name": "stdout",
     "text": "3306\n"
    }
   ],
   "source": [
    "url = \"https://www.hepsiburada.com/xiaomi-mi-robot-vacuum-mop-pro-siyah-akilli-robot-supurge-p-hbv00000sdb4d\"\n",
    "\n",
    "print(scrape_hepsi(url))"
   ]
  },
  {
   "cell_type": "code",
   "execution_count": 9,
   "metadata": {
    "tags": []
   },
   "outputs": [
    {
     "output_type": "stream",
     "name": "stdout",
     "text": "76\n"
    }
   ],
   "source": [
    "url = \"https://www.trendyol.com/u-s-polo-assn/kadin-gomlek-g082gl004-000-1177173-p-42639036?boutiqueId=527231&merchantId=163\"\n",
    "\n",
    "print(scrape_trendyol(url))"
   ]
  },
  {
   "cell_type": "code",
   "execution_count": 44,
   "metadata": {
    "tags": []
   },
   "outputs": [
    {
     "output_type": "execute_result",
     "data": {
      "text/plain": "1199"
     },
     "metadata": {},
     "execution_count": 44
    }
   ],
   "source": [
    "url_with_discount = \"https://www.amazon.com.tr/dp/B07YPVMGL4?smid=A1UNQM1SR2CHM&pf_rd_r=S38KWWAN0WRDMHNCQFWF&pf_rd_p=33689740-40ee-4a22-94e7-3d67673fe693\"\n",
    "\n",
    "scrape_amazon(url_with_discount)"
   ]
  },
  {
   "cell_type": "code",
   "execution_count": 45,
   "metadata": {
    "tags": []
   },
   "outputs": [
    {
     "output_type": "execute_result",
     "data": {
      "text/plain": "2819"
     },
     "metadata": {},
     "execution_count": 45
    }
   ],
   "source": [
    "url = \"https://www.vatanbilgisayar.com/huawei-psmart-pro-128-gb-akilli-telefon-kristal.html\"\n",
    "scrape_vatan(url)"
   ]
  },
  {
   "cell_type": "code",
   "execution_count": 46,
   "metadata": {},
   "outputs": [
    {
     "output_type": "execute_result",
     "data": {
      "text/plain": "7099"
     },
     "metadata": {},
     "execution_count": 46
    }
   ],
   "source": [
    "url = \"https://www.teknosa.com/monster-abra-a7-v1217-intel-core-i5-10300h-8-gb-ddr4-ram-250gb-ssd-4gb-gddr6-nvidia-gtx1650-17-siyah-notebook-p-125035333?_sgm_campaign=scn_4e876eb8aed82000&_sgm_source=125035333&_sgm_action=click\"\n",
    "scrape_teknosa(url)"
   ]
  },
  {
   "cell_type": "code",
   "execution_count": 47,
   "metadata": {},
   "outputs": [
    {
     "output_type": "execute_result",
     "data": {
      "text/plain": "4152"
     },
     "metadata": {},
     "execution_count": 47
    }
   ],
   "source": [
    "url = \"https://www.incehesap.com/asus-vivobook-15-x512da-ej957-notebook-fiyati-44688/\"\n",
    "scrape_incehesap(url)"
   ]
  },
  {
   "cell_type": "code",
   "execution_count": 57,
   "metadata": {
    "tags": []
   },
   "outputs": [
    {
     "output_type": "stream",
     "name": "stdout",
     "text": "1456\n399\n2199\n279\n1799\n239\n456\n"
    }
   ],
   "source": [
    "url_list = [\"https://www.itopya.com/epson-lx-350-80-kolon-416-cps-nokta-vuruslu-yazici/\",\n",
    "            \"https://www.itopya.com/stratus-xl-windows-ve-android-gamepad/\",\n",
    "            \"https://www.itopya.com/aoc-315-c32g1-2xhdmi-dp-vga-144hz-1ms-freesync-full-hd-curved-gaming-monitor/\",\n",
    "            \"https://www.itopya.com/gskill-8gb-ripjaws-v-siyah-ddr4-3200mhz-cl16-single-kit-ram/\",\n",
    "            \"https://www.itopya.com/aoc-24-c24g1-2xhdmi-dp-vga-144hz-1ms-freesync-full-hd-curved-gaming-monitor-/\",\n",
    "            \"https://www.itopya.com/kioxia-exceria-240gb-sata-30-25-ssd-555mb-okuma-540mb-yazma/\",\n",
    "            \"https://www.itopya.com/asus-dsl-ac51-ac750-adsl-vdsl-fiber-modem/\"]\n",
    "\n",
    "for url in url_list:\n",
    "    print(scrape_itopya(url))"
   ]
  },
  {
   "cell_type": "code",
   "execution_count": 46,
   "metadata": {},
   "outputs": [
    {
     "output_type": "execute_result",
     "data": {
      "text/plain": "'2.199.00  KDV Dahil'"
     },
     "metadata": {},
     "execution_count": 46
    }
   ],
   "source": [
    "soup.find_all(\"div\", attrs= {\"class\": \"product-info\"})[0].select('div[class=\"new text-right\"]')[0].get_text()"
   ]
  },
  {
   "cell_type": "code",
   "execution_count": 99,
   "metadata": {
    "tags": []
   },
   "outputs": [],
   "source": [
    "from scrape import extract_product_links\n",
    "from products import products"
   ]
  },
  {
   "cell_type": "code",
   "execution_count": 4,
   "metadata": {},
   "outputs": [],
   "source": [
    "x = {}"
   ]
  },
  {
   "cell_type": "code",
   "execution_count": 5,
   "metadata": {},
   "outputs": [],
   "source": [
    "x[\"RTX 2080\"] = {\"amazon\": 125, \"incehesap\":25}"
   ]
  },
  {
   "cell_type": "code",
   "execution_count": 6,
   "metadata": {},
   "outputs": [
    {
     "output_type": "execute_result",
     "data": {
      "text/plain": "{'RTX 2080': {'amazon': 125, 'incehesap': 25}}"
     },
     "metadata": {},
     "execution_count": 6
    }
   ],
   "source": [
    "x"
   ]
  },
  {
   "cell_type": "code",
   "execution_count": 10,
   "metadata": {
    "tags": []
   },
   "outputs": [
    {
     "output_type": "stream",
     "name": "stdout",
     "text": "Product name: Asus RTX 2080 Super\nincehesap 9153\namazon 7731\nhepsiburada 7739\nitopya 8765\n"
    }
   ],
   "source": [
    "from scrape import  extract_product_links\n",
    "\n",
    "from mail import send_mail, create_mail_body\n",
    "from products import products\n",
    "\n",
    "\n",
    "price_dict = extract_product_links(products)"
   ]
  },
  {
   "cell_type": "code",
   "execution_count": 11,
   "metadata": {},
   "outputs": [
    {
     "output_type": "execute_result",
     "data": {
      "text/plain": "{'Asus RTX 2080 Super': {'incehesap': 9153,\n  'amazon': 7731,\n  'hepsiburada': 7739,\n  'itopya': 8765}}"
     },
     "metadata": {},
     "execution_count": 11
    }
   ],
   "source": [
    "price_dict"
   ]
  },
  {
   "cell_type": "code",
   "execution_count": 42,
   "metadata": {
    "tags": []
   },
   "outputs": [
    {
     "output_type": "stream",
     "name": "stdout",
     "text": "{'incehesap': 9153, 'amazon': 7731, 'hepsiburada': 7739, 'itopya': 8765}\nAverage price of Asus RTX 2080 Super: 8347.0\namazon has a discount\nhepsiburada has a discount\n"
    }
   ],
   "source": [
    "#iterate over product\n",
    "for product_name in price_dict:\n",
    "    print(price_dict[product_name])\n",
    "    prices = list(price_dict[product_name].values())\n",
    "    #calculate average price of product\n",
    "    average_price = sum(prices)/len(prices)\n",
    "    print(\"Average price of\", product_name + \":\", average_price)\n",
    "    #iterate over sellers\n",
    "    for seller in price_dict[product]:\n",
    "        #compare prices of sellers with average price\n",
    "        #if price of seller is lower than %20 of the product send e-mail \n",
    "        if price_dict[product_name][seller] < (average_price - (average_price*20/100)):\n",
    "            print(seller, \"has a discount\")\n",
    "            send_mail(create_mail_body(product_name, seller))"
   ]
  },
  {
   "cell_type": "code",
   "execution_count": 35,
   "metadata": {},
   "outputs": [
    {
     "output_type": "execute_result",
     "data": {
      "text/plain": "9153"
     },
     "metadata": {},
     "execution_count": 35
    }
   ],
   "source": [
    "from random import randint"
   ]
  }
 ]
}