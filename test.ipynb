{
 "metadata": {
  "language_info": {
   "codemirror_mode": {
    "name": "ipython",
    "version": 3
   },
   "file_extension": ".py",
   "mimetype": "text/x-python",
   "name": "python",
   "nbconvert_exporter": "python",
   "pygments_lexer": "ipython3",
   "version": "3.8.5-final"
  },
  "orig_nbformat": 2,
  "kernelspec": {
   "name": "python_defaultSpec_1598170602318",
   "display_name": "Python 3.8.5 64-bit ('scraper': conda)"
  }
 },
 "nbformat": 4,
 "nbformat_minor": 2,
 "cells": [
  {
   "cell_type": "code",
   "execution_count": 1,
   "metadata": {
    "tags": []
   },
   "outputs": [],
   "source": [
    "%load_ext autoreload\n",
    "%autoreload 2"
   ]
  },
  {
   "cell_type": "code",
   "execution_count": 2,
   "metadata": {
    "tags": []
   },
   "outputs": [],
   "source": [
    "from scrape import scrape_hepsi, scrape_trendyol, scrape_amazon, scrape_vatan, scrape_teknosa, scrape_incehesap, scrape_itopya"
   ]
  },
  {
   "cell_type": "code",
   "execution_count": 3,
   "metadata": {
    "tags": []
   },
   "outputs": [
    {
     "output_type": "stream",
     "name": "stdout",
     "text": "3306\n"
    }
   ],
   "source": [
    "url = \"https://www.hepsiburada.com/xiaomi-mi-robot-vacuum-mop-pro-siyah-akilli-robot-supurge-p-hbv00000sdb4d\"\n",
    "\n",
    "print(scrape_hepsi(url))"
   ]
  },
  {
   "cell_type": "code",
   "execution_count": 9,
   "metadata": {
    "tags": []
   },
   "outputs": [
    {
     "output_type": "stream",
     "name": "stdout",
     "text": "76\n"
    }
   ],
   "source": [
    "url = \"https://www.trendyol.com/u-s-polo-assn/kadin-gomlek-g082gl004-000-1177173-p-42639036?boutiqueId=527231&merchantId=163\"\n",
    "\n",
    "print(scrape_trendyol(url))"
   ]
  },
  {
   "cell_type": "code",
   "execution_count": 44,
   "metadata": {
    "tags": []
   },
   "outputs": [
    {
     "output_type": "execute_result",
     "data": {
      "text/plain": "1199"
     },
     "metadata": {},
     "execution_count": 44
    }
   ],
   "source": [
    "url_with_discount = \"https://www.amazon.com.tr/dp/B07YPVMGL4?smid=A1UNQM1SR2CHM&pf_rd_r=S38KWWAN0WRDMHNCQFWF&pf_rd_p=33689740-40ee-4a22-94e7-3d67673fe693\"\n",
    "\n",
    "scrape_amazon(url_with_discount)"
   ]
  },
  {
   "cell_type": "code",
   "execution_count": 45,
   "metadata": {
    "tags": []
   },
   "outputs": [
    {
     "output_type": "execute_result",
     "data": {
      "text/plain": "2819"
     },
     "metadata": {},
     "execution_count": 45
    }
   ],
   "source": [
    "url = \"https://www.vatanbilgisayar.com/huawei-psmart-pro-128-gb-akilli-telefon-kristal.html\"\n",
    "scrape_vatan(url)"
   ]
  },
  {
   "cell_type": "code",
   "execution_count": 46,
   "metadata": {},
   "outputs": [
    {
     "output_type": "execute_result",
     "data": {
      "text/plain": "7099"
     },
     "metadata": {},
     "execution_count": 46
    }
   ],
   "source": [
    "url = \"https://www.teknosa.com/monster-abra-a7-v1217-intel-core-i5-10300h-8-gb-ddr4-ram-250gb-ssd-4gb-gddr6-nvidia-gtx1650-17-siyah-notebook-p-125035333?_sgm_campaign=scn_4e876eb8aed82000&_sgm_source=125035333&_sgm_action=click\"\n",
    "scrape_teknosa(url)"
   ]
  },
  {
   "cell_type": "code",
   "execution_count": 47,
   "metadata": {},
   "outputs": [
    {
     "output_type": "execute_result",
     "data": {
      "text/plain": "4152"
     },
     "metadata": {},
     "execution_count": 47
    }
   ],
   "source": [
    "url = \"https://www.incehesap.com/asus-vivobook-15-x512da-ej957-notebook-fiyati-44688/\"\n",
    "scrape_incehesap(url)"
   ]
  },
  {
   "cell_type": "code",
   "execution_count": 57,
   "metadata": {
    "tags": []
   },
   "outputs": [
    {
     "output_type": "stream",
     "name": "stdout",
     "text": "1456\n399\n2199\n279\n1799\n239\n456\n"
    }
   ],
   "source": [
    "url_list = [\"https://www.itopya.com/epson-lx-350-80-kolon-416-cps-nokta-vuruslu-yazici/\",\n",
    "            \"https://www.itopya.com/stratus-xl-windows-ve-android-gamepad/\",\n",
    "            \"https://www.itopya.com/aoc-315-c32g1-2xhdmi-dp-vga-144hz-1ms-freesync-full-hd-curved-gaming-monitor/\",\n",
    "            \"https://www.itopya.com/gskill-8gb-ripjaws-v-siyah-ddr4-3200mhz-cl16-single-kit-ram/\",\n",
    "            \"https://www.itopya.com/aoc-24-c24g1-2xhdmi-dp-vga-144hz-1ms-freesync-full-hd-curved-gaming-monitor-/\",\n",
    "            \"https://www.itopya.com/kioxia-exceria-240gb-sata-30-25-ssd-555mb-okuma-540mb-yazma/\",\n",
    "            \"https://www.itopya.com/asus-dsl-ac51-ac750-adsl-vdsl-fiber-modem/\"]\n",
    "\n",
    "for url in url_list:\n",
    "    print(scrape_itopya(url))"
   ]
  },
  {
   "cell_type": "code",
   "execution_count": 46,
   "metadata": {},
   "outputs": [
    {
     "output_type": "execute_result",
     "data": {
      "text/plain": "'2.199.00  KDV Dahil'"
     },
     "metadata": {},
     "execution_count": 46
    }
   ],
   "source": [
    "soup.find_all(\"div\", attrs= {\"class\": \"product-info\"})[0].select('div[class=\"new text-right\"]')[0].get_text()"
   ]
  },
  {
   "cell_type": "code",
   "execution_count": null,
   "metadata": {},
   "outputs": [],
   "source": []
  }
 ]
}