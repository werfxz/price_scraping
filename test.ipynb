{
 "metadata": {
  "language_info": {
   "codemirror_mode": {
    "name": "ipython",
    "version": 3
   },
   "file_extension": ".py",
   "mimetype": "text/x-python",
   "name": "python",
   "nbconvert_exporter": "python",
   "pygments_lexer": "ipython3",
   "version": "3.8.5-final"
  },
  "orig_nbformat": 2,
  "kernelspec": {
   "name": "python_defaultSpec_1597858116838",
   "display_name": "Python 3.8.5 64-bit ('scraper': conda)"
  }
 },
 "nbformat": 4,
 "nbformat_minor": 2,
 "cells": [
  {
   "cell_type": "code",
   "execution_count": 44,
   "metadata": {
    "tags": []
   },
   "outputs": [
    {
     "output_type": "stream",
     "name": "stdout",
     "text": "The autoreload extension is already loaded. To reload it, use:\n  %reload_ext autoreload\n"
    }
   ],
   "source": [
    "%load_ext autoreload\n",
    "%autoreload 2"
   ]
  },
  {
   "cell_type": "code",
   "execution_count": 45,
   "metadata": {
    "tags": []
   },
   "outputs": [],
   "source": [
    "from scrape import scrape_hepsi, scrape_trendyol, scrape_amazon, scrape_vatan"
   ]
  },
  {
   "cell_type": "code",
   "execution_count": 42,
   "metadata": {
    "tags": []
   },
   "outputs": [
    {
     "output_type": "stream",
     "name": "stdout",
     "text": "60\n"
    }
   ],
   "source": [
    "url = \"https://www.hepsiburada.com/mf-product-acoustic-0235-kablosuz-kulak-ustu-bluetooth-kulaklik-kirmizi-p-HBV00000SF2XQ\"\n",
    "\n",
    "print(scrape_hepsi(url))"
   ]
  },
  {
   "cell_type": "code",
   "execution_count": 49,
   "metadata": {
    "tags": []
   },
   "outputs": [
    {
     "output_type": "execute_result",
     "data": {
      "text/plain": "'29'"
     },
     "metadata": {},
     "execution_count": 49
    }
   ],
   "source": [
    "url = \"https://www.trendyol.com/spin-mop/tablet-mop-yedek-bez-4-adet-p-7154256\"\n",
    "\n",
    "scrape_trendyol(url)"
   ]
  },
  {
   "cell_type": "code",
   "execution_count": 62,
   "metadata": {},
   "outputs": [
    {
     "output_type": "execute_result",
     "data": {
      "text/plain": "'₺268,00'"
     },
     "metadata": {},
     "execution_count": 62
    }
   ],
   "source": [
    "url_with_discount = \"https://www.amazon.com.tr/dp/B07D858ZTC/ref=br_msw_pdt-6?_encoding=UTF8&smid=AQ99S0QYD3JW1&pf_rd_m=A1UNQM1SR2CHM&pf_rd_s=&pf_rd_r=Z1QFN187EVDB1Y4R0CFM&pf_rd_t=36701&pf_rd_p=fef12687-8748-4533-a0a7-951314f2db49&pf_rd_i=desktop\"\n",
    "\n",
    "scrape_amazon(url_with_discount)"
   ]
  },
  {
   "cell_type": "code",
   "execution_count": 56,
   "metadata": {},
   "outputs": [
    {
     "output_type": "execute_result",
     "data": {
      "text/plain": "[<span class=\"a-size-medium a-color-price priceBlockBuyingPriceString\" id=\"priceblock_ourprice\">₺59,35</span>]"
     },
     "metadata": {},
     "execution_count": 56
    }
   ],
   "source": [
    "content"
   ]
  },
  {
   "cell_type": "code",
   "execution_count": 68,
   "metadata": {},
   "outputs": [
    {
     "output_type": "execute_result",
     "data": {
      "text/plain": "'4.299'"
     },
     "metadata": {},
     "execution_count": 68
    }
   ],
   "source": [
    "url = \"https://www.vatanbilgisayar.com/huawei-matebook-d-15-amd-ryzen-5-3500u-2-1ghz-8gb-512gbssd-15-6-amd-w10.html\"\n",
    "scrape_vatan(url)"
   ]
  },
  {
   "cell_type": "code",
   "execution_count": 64,
   "metadata": {},
   "outputs": [],
   "source": [
    "from scrape import get_request\n",
    "\n",
    "soup = get_request(url, timeout=50)"
   ]
  },
  {
   "cell_type": "code",
   "execution_count": 67,
   "metadata": {},
   "outputs": [
    {
     "output_type": "execute_result",
     "data": {
      "text/plain": "[]"
     },
     "metadata": {},
     "execution_count": 67
    }
   ],
   "source": [
    "soup.find_all(\"div\", attrs={\"class\": \"product-list__content\"})"
   ]
  },
  {
   "cell_type": "code",
   "execution_count": null,
   "metadata": {},
   "outputs": [],
   "source": []
  }
 ]
}