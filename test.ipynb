{
 "metadata": {
  "language_info": {
   "codemirror_mode": {
    "name": "ipython",
    "version": 3
   },
   "file_extension": ".py",
   "mimetype": "text/x-python",
   "name": "python",
   "nbconvert_exporter": "python",
   "pygments_lexer": "ipython3",
   "version": "3.8.5-final"
  },
  "orig_nbformat": 2,
  "kernelspec": {
   "name": "python_defaultSpec_1597946698277",
   "display_name": "Python 3.8.5 64-bit ('scraper': conda)"
  }
 },
 "nbformat": 4,
 "nbformat_minor": 2,
 "cells": [
  {
   "cell_type": "code",
   "execution_count": 14,
   "metadata": {
    "tags": []
   },
   "outputs": [
    {
     "output_type": "stream",
     "name": "stdout",
     "text": "The autoreload extension is already loaded. To reload it, use:\n  %reload_ext autoreload\n"
    }
   ],
   "source": [
    "%load_ext autoreload\n",
    "%autoreload 2"
   ]
  },
  {
   "cell_type": "code",
   "execution_count": 15,
   "metadata": {
    "tags": []
   },
   "outputs": [],
   "source": [
    "from scrape import scrape_hepsi, scrape_trendyol, scrape_amazon, scrape_vatan, scrape_teknosa, scrape_incehesap, scrape_itopya"
   ]
  },
  {
   "cell_type": "code",
   "execution_count": 71,
   "metadata": {
    "tags": []
   },
   "outputs": [
    {
     "output_type": "stream",
     "name": "stdout",
     "text": "60\n"
    }
   ],
   "source": [
    "url = \"https://www.hepsiburada.com/mf-product-acoustic-0235-kablosuz-kulak-ustu-bluetooth-kulaklik-kirmizi-p-HBV00000SF2XQ\"\n",
    "\n",
    "print(scrape_hepsi(url))"
   ]
  },
  {
   "cell_type": "code",
   "execution_count": 72,
   "metadata": {
    "tags": []
   },
   "outputs": [
    {
     "output_type": "execute_result",
     "data": {
      "text/plain": "'29'"
     },
     "metadata": {},
     "execution_count": 72
    }
   ],
   "source": [
    "url = \"https://www.trendyol.com/spin-mop/tablet-mop-yedek-bez-4-adet-p-7154256\"\n",
    "\n",
    "scrape_trendyol(url)"
   ]
  },
  {
   "cell_type": "code",
   "execution_count": 73,
   "metadata": {},
   "outputs": [
    {
     "output_type": "execute_result",
     "data": {
      "text/plain": "'₺268,00'"
     },
     "metadata": {},
     "execution_count": 73
    }
   ],
   "source": [
    "url_with_discount = \"https://www.amazon.com.tr/dp/B07D858ZTC/ref=br_msw_pdt-6?_encoding=UTF8&smid=AQ99S0QYD3JW1&pf_rd_m=A1UNQM1SR2CHM&pf_rd_s=&pf_rd_r=Z1QFN187EVDB1Y4R0CFM&pf_rd_t=36701&pf_rd_p=fef12687-8748-4533-a0a7-951314f2db49&pf_rd_i=desktop\"\n",
    "\n",
    "scrape_amazon(url_with_discount)"
   ]
  },
  {
   "cell_type": "code",
   "execution_count": 3,
   "metadata": {
    "tags": []
   },
   "outputs": [
    {
     "output_type": "execute_result",
     "data": {
      "text/plain": "'2.999'"
     },
     "metadata": {},
     "execution_count": 3
    }
   ],
   "source": [
    "url = \"https://www.vatanbilgisayar.com/huawei-psmart-pro-128-gb-akilli-telefon-kristal.html\"\n",
    "scrape_vatan(url)"
   ]
  },
  {
   "cell_type": "code",
   "execution_count": 7,
   "metadata": {},
   "outputs": [
    {
     "output_type": "execute_result",
     "data": {
      "text/plain": "'\\n\\t\\t\\t\\t7.099 TL'"
     },
     "metadata": {},
     "execution_count": 7
    }
   ],
   "source": [
    "url = \"https://www.teknosa.com/monster-abra-a7-v1217-intel-core-i5-10300h-8-gb-ddr4-ram-250gb-ssd-4gb-gddr6-nvidia-gtx1650-17-siyah-notebook-p-125035333?_sgm_campaign=scn_4e876eb8aed82000&_sgm_source=125035333&_sgm_action=click\"\n",
    "scrape_teknosa(url)"
   ]
  },
  {
   "cell_type": "code",
   "execution_count": 13,
   "metadata": {},
   "outputs": [
    {
     "output_type": "execute_result",
     "data": {
      "text/plain": "'4.152,19 TL'"
     },
     "metadata": {},
     "execution_count": 13
    }
   ],
   "source": [
    "url = \"https://www.incehesap.com/asus-vivobook-15-x512da-ej957-notebook-fiyati-44688/\"\n",
    "scrape_incehesap(url)"
   ]
  },
  {
   "cell_type": "code",
   "execution_count": 19,
   "metadata": {
    "tags": []
   },
   "outputs": [
    {
     "output_type": "stream",
     "name": "stdout",
     "text": "[<div class=\"product-info col-md-12\">\n<div class=\"white col-md-12\">\n<div class=\"links col-md-6\">\n<div class=\"karsilastirma_divBas\">\n<a class=\"col-md-12 text-left\" onclick=\"karsilastirmaChange('4225',this,'ekle','compare-products');\" role=\"button\"><i class=\"fa fa-square\"></i> KARŞILAŞTIR</a>\n</div>\n<a class=\"col-md-12 text-left text-red\" data-target=\"#gelince-haber-ver\" data-toggle=\"modal\" href=\"#\"><i class=\"fa fa-bell\"></i> GELİNCE HABER VER</a>\n<div class=\"favori_divBas4225\">\n<a class=\"col-md-12 text-left\" onclick=\"templateAlertLocation('Üye Girişi Yapılmalı','warning','');\" role=\"button\"><i class=\"fa fa-heart\"></i> İSTEK LİSTEME EKLE </a>\n</div>\n<span class=\"pull-left price-opt\">\n<a class=\"open-popup\" href=\"#paymentOptions\"><i aria-hidden=\"true\" class=\"fa fa-credit-card-alt\"></i> Taksit Seçenekleri</a>\n</span>\n</div>\n<div class=\"col-md-6\">\n<div class=\"old text-right\">\n </div>\n<div class=\"new text-right\">1.456<sup>.63</sup> <i class=\"fa fa-try\"></i> <div class=\"tax\">KDV Dahil</div></div>\n<div class=\"save text-right hide\">/?/ 100<i class=\"fa fa-try\"></i> üzeri alışverişte <i class=\"fa fa-try\"></i>10 hediye /?/</div>\n</div>\n</div>\n</div>]\n"
    },
    {
     "output_type": "execute_result",
     "data": {
      "text/plain": "'\\n\\n\\n\\n KARŞILAŞTIR\\n\\n GELİNCE HABER VER\\n\\n İSTEK LİSTEME EKLE \\n\\n\\n Taksit Seçenekleri\\n\\n\\n\\n\\n \\n1.456.63  KDV Dahil\\n/?/ 100 üzeri alışverişte 10 hediye /?/\\n\\n\\n'"
     },
     "metadata": {},
     "execution_count": 19
    }
   ],
   "source": [
    "url = \"https://www.itopya.com/epson-lx-350-80-kolon-416-cps-nokta-vuruslu-yazici/\"\n",
    "scrape_itopya(url)"
   ]
  },
  {
   "cell_type": "code",
   "execution_count": null,
   "metadata": {},
   "outputs": [],
   "source": []
  }
 ]
}