{
 "metadata": {
  "language_info": {
   "codemirror_mode": {
    "name": "ipython",
    "version": 3
   },
   "file_extension": ".py",
   "mimetype": "text/x-python",
   "name": "python",
   "nbconvert_exporter": "python",
   "pygments_lexer": "ipython3",
   "version": "3.8.5-final"
  },
  "orig_nbformat": 2,
  "kernelspec": {
   "name": "python_defaultSpec_1597858116838",
   "display_name": "Python 3.8.5 64-bit ('scraper': conda)"
  }
 },
 "nbformat": 4,
 "nbformat_minor": 2,
 "cells": [
  {
   "cell_type": "code",
   "execution_count": 1,
   "metadata": {
    "tags": []
   },
   "outputs": [],
   "source": [
    "%load_ext autoreload\n",
    "%autoreload 2"
   ]
  },
  {
   "cell_type": "code",
   "execution_count": 2,
   "metadata": {
    "tags": []
   },
   "outputs": [],
   "source": [
    "from scrape import scrape_hepsi, scrape_trendyol, scrape_amazon, scrape_vatan"
   ]
  },
  {
   "cell_type": "code",
   "execution_count": 6,
   "metadata": {
    "tags": []
   },
   "outputs": [
    {
     "output_type": "stream",
     "name": "stdout",
     "text": "2789\n"
    }
   ],
   "source": [
    "url = \"https://www.hepsiburada.com/xiaomi-redmi-note-8-pro-64-gb-xiaomi-turkiye-garantili-p-hbv00000nb888\"\n",
    "\n",
    "print(scrape_hepsi(url))"
   ]
  },
  {
   "cell_type": "code",
   "execution_count": 13,
   "metadata": {
    "tags": []
   },
   "outputs": [],
   "source": [
    "url = \"https://www.trendyol.com/xiaomi/mijia-smart-home-360-derece-donebilen-kizilotesi-gece-goruslu-ip-kamera-hd-1080p-p-4923266\"\n",
    "\n",
    "scrape_trendyol(url)"
   ]
  },
  {
   "cell_type": "code",
   "execution_count": 14,
   "metadata": {},
   "outputs": [
    {
     "output_type": "execute_result",
     "data": {
      "text/plain": "0"
     },
     "metadata": {},
     "execution_count": 14
    }
   ],
   "source": []
  },
  {
   "cell_type": "code",
   "execution_count": 32,
   "metadata": {},
   "outputs": [
    {
     "output_type": "execute_result",
     "data": {
      "text/plain": "'₺2.551,00'"
     },
     "metadata": {},
     "execution_count": 32
    }
   ],
   "source": [
    "url_with_discount = \"https://www.amazon.com.tr/dp/B00SRECNP6/ref=gbps_img_s-5_d184_e4304bc2?smid=A1UNQM1SR2CHM&pf_rd_p=924fea92-9545-4320-a436-b51fc982d184&pf_rd_s=slot-5&pf_rd_t=701&pf_rd_i=gb_main&pf_rd_m=A1UNQM1SR2CHM&pf_rd_r=4VBE7ZQCFA5KF8FFXNQV\"\n",
    "url_with_discount2 = \"https://www.amazon.com.tr/dp/B00U7EX4ZC?smid=A3AZC0S9UT9657&pf_rd_r=Y3P4VY75N5TPJ5YBG7K4&pf_rd_p=33689740-40ee-4a22-94e7-3d67673fe693\"\n",
    "\n",
    "url_withouth_discount = \"https://www.amazon.com.tr/gp/product/B0833J2JBK?pf_rd_r=TZZDXX7VN04T249P0V21&pf_rd_p=dbef927e-126e-4d59-a744-316eb26cc421\"\n",
    "url_withouth_discount2 = \"https://www.amazon.com.tr/AOC-24G2U-Gaming-Oyuncu-Monit%C3%B6r/dp/B07Y3RYLVH/ref=sr_1_1?__mk_tr_TR=%C3%85M%C3%85%C5%BD%C3%95%C3%91&crid=2N9Q0P8P5SH53&dchild=1&keywords=aoc+24g2u&qid=1597691936&sprefix=aoc+%2Caps%2C199&sr=8-1\"\n",
    "\n",
    "scrape_amazon(url_withouth_discount2)"
   ]
  },
  {
   "cell_type": "code",
   "execution_count": 43,
   "metadata": {},
   "outputs": [
    {
     "output_type": "execute_result",
     "data": {
      "text/plain": "'1.297'"
     },
     "metadata": {},
     "execution_count": 43
    }
   ],
   "source": [
    "url = \"https://www.vatanbilgisayar.com/lg-32mn19-32-81-cm-hd-ips-led-ekran.html\"\n",
    "scrape_vatan(url)"
   ]
  },
  {
   "cell_type": "code",
   "execution_count": null,
   "metadata": {},
   "outputs": [],
   "source": []
  }
 ]
}